{
 "cells": [
  {
   "cell_type": "code",
   "execution_count": 4,
   "metadata": {},
   "outputs": [],
   "source": [
    "try:\n",
    "    sys.path.remove('/opt/ros/kinetic/lib/python2.7/dist-packages')\n",
    "except:\n",
    "    pass\n",
    "\n",
    "import cv2\n",
    "import numpy as np\n",
    "\n",
    "cap = cv2.VideoCapture(\"/home/abhinav/Desktop/ENPM673/Project2/data/project_video.mp4\")\n",
    "K = np.array([[  1.15422732e+03,0.00000000e+00,6.71627794e+02],\n",
    "              [  0.00000000e+00,1.14818221e+03,3.86046312e+02],\n",
    "              [  0.00000000e+00,0.00000000e+00,1.00000000e+00]])\n",
    "dist = np.array([ -2.42565104e-01,-4.77893070e-02,  -1.31388084e-03,  -8.79107779e-05,\n",
    "    2.20573263e-02])\n",
    "while(True):\n",
    "    ret,frame = cap.read()\n",
    "    gray = cv2.cvtColor(frame, cv2.COLOR_BGR2HSV)\n",
    "    undist = cv2.undistort(gray,K,dist)\n",
    "    \n",
    "    h = gray.shape[0]\n",
    "    w = gray.shape[1]\n",
    "    \n",
    "    src = np.array([[w/2-50,h/2+110],[w/2+50,h/2+110],[w/2+200,h/2+250],[w/2-200,h/2+250]])\n",
    "    dst = np.array([[300,300],[500,300],[500,500],[300,500]])\n",
    "    H,flag = cv2.findHomography(src,dst)\n",
    "    out= cv2.warpPerspective(undist,H,(w,h-200))\n",
    "    blur = cv2.bilateralFilter(out,9,75,75)\n",
    "    median = cv2.medianBlur(blur,5)\n",
    "    mask = cv2.inRange(median,np.array([20,50,50]),np.array([30,255,255]))\n",
    "    seg = cv2.bitwise_and(median,median,mask=mask)\n",
    "    blur = cv2.bilateralFilter(seg,9,75,75)\n",
    "#     canny = cv2.Canny(blur,75,255)\n",
    "\n",
    "\n",
    "    \n",
    "    \n",
    "    \n",
    "    \n",
    "    cv2.imshow('video_out',blur)\n",
    "#     cv2.imshow('video_out_undist',sobel)\n",
    "    if cv2.waitKey(1)& 0xff==ord('q'):\n",
    "        cv2.destroyAllWindows()\n",
    "        break"
   ]
  },
  {
   "cell_type": "code",
   "execution_count": null,
   "metadata": {},
   "outputs": [],
   "source": []
  },
  {
   "cell_type": "code",
   "execution_count": 4,
   "metadata": {
    "scrolled": true
   },
   "outputs": [
    {
     "data": {
      "text/plain": [
       "array([[58, 54, 53, ..., 68, 58, 59],\n",
       "       [57, 55, 52, ..., 63, 49, 52],\n",
       "       [56, 58, 56, ..., 62, 47, 51],\n",
       "       ...,\n",
       "       [82, 87, 85, ..., 90, 93, 93],\n",
       "       [80, 82, 82, ..., 86, 89, 89],\n",
       "       [90, 90, 90, ..., 85, 87, 90]], dtype=uint8)"
      ]
     },
     "execution_count": 4,
     "metadata": {},
     "output_type": "execute_result"
    }
   ],
   "source": [
    "gray[h/2+60:,(w/2-50):(w/2+50)]"
   ]
  },
  {
   "cell_type": "code",
   "execution_count": null,
   "metadata": {},
   "outputs": [],
   "source": []
  }
 ],
 "metadata": {
  "kernelspec": {
   "display_name": "Python 2",
   "language": "python",
   "name": "python2"
  },
  "language_info": {
   "codemirror_mode": {
    "name": "ipython",
    "version": 2
   },
   "file_extension": ".py",
   "mimetype": "text/x-python",
   "name": "python",
   "nbconvert_exporter": "python",
   "pygments_lexer": "ipython2",
   "version": "2.7.12"
  }
 },
 "nbformat": 4,
 "nbformat_minor": 2
}
