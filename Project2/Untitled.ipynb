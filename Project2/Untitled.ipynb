{
 "cells": [
  {
   "cell_type": "code",
   "execution_count": 1,
   "metadata": {
    "scrolled": true
   },
   "outputs": [
    {
     "ename": "AttributeError",
     "evalue": "'NoneType' object has no attribute 'shape'",
     "output_type": "error",
     "traceback": [
      "\u001b[0;31m---------------------------------------------------------------------------\u001b[0m",
      "\u001b[0;31mAttributeError\u001b[0m                            Traceback (most recent call last)",
      "\u001b[0;32m<ipython-input-1-4264c83332ee>\u001b[0m in \u001b[0;36m<module>\u001b[0;34m()\u001b[0m\n\u001b[1;32m    109\u001b[0m     \u001b[0mret\u001b[0m\u001b[0;34m,\u001b[0m\u001b[0mframe\u001b[0m \u001b[0;34m=\u001b[0m \u001b[0mcap\u001b[0m\u001b[0;34m.\u001b[0m\u001b[0mread\u001b[0m\u001b[0;34m(\u001b[0m\u001b[0;34m)\u001b[0m\u001b[0;34m\u001b[0m\u001b[0m\n\u001b[1;32m    110\u001b[0m \u001b[0;34m\u001b[0m\u001b[0m\n\u001b[0;32m--> 111\u001b[0;31m     \u001b[0mseg\u001b[0m\u001b[0;34m,\u001b[0m\u001b[0mcombined\u001b[0m\u001b[0;34m,\u001b[0m\u001b[0mth\u001b[0m \u001b[0;34m=\u001b[0m \u001b[0mpreprocessing\u001b[0m\u001b[0;34m(\u001b[0m\u001b[0mframe\u001b[0m\u001b[0;34m)\u001b[0m\u001b[0;34m\u001b[0m\u001b[0m\n\u001b[0m\u001b[1;32m    112\u001b[0m     \u001b[0;31m#Extract the region of interest and warp to get bird's eye view\u001b[0m\u001b[0;34m\u001b[0m\u001b[0;34m\u001b[0m\u001b[0m\n\u001b[1;32m    113\u001b[0m     \u001b[0mh\u001b[0m \u001b[0;34m=\u001b[0m \u001b[0mframe\u001b[0m\u001b[0;34m.\u001b[0m\u001b[0mshape\u001b[0m\u001b[0;34m[\u001b[0m\u001b[0;36m0\u001b[0m\u001b[0;34m]\u001b[0m\u001b[0;34m\u001b[0m\u001b[0m\n",
      "\u001b[0;32m<ipython-input-1-4264c83332ee>\u001b[0m in \u001b[0;36mpreprocessing\u001b[0;34m(frame)\u001b[0m\n\u001b[1;32m     23\u001b[0m     \u001b[0;32mreturn\u001b[0m \u001b[0mres\u001b[0m\u001b[0;34m\u001b[0m\u001b[0m\n\u001b[1;32m     24\u001b[0m \u001b[0;32mdef\u001b[0m \u001b[0mpreprocessing\u001b[0m\u001b[0;34m(\u001b[0m\u001b[0mframe\u001b[0m\u001b[0;34m)\u001b[0m\u001b[0;34m:\u001b[0m\u001b[0;34m\u001b[0m\u001b[0m\n\u001b[0;32m---> 25\u001b[0;31m     \u001b[0mth\u001b[0m \u001b[0;34m=\u001b[0m \u001b[0mnp\u001b[0m\u001b[0;34m.\u001b[0m\u001b[0mmedian\u001b[0m\u001b[0;34m(\u001b[0m\u001b[0mframe\u001b[0m\u001b[0;34m[\u001b[0m\u001b[0mint\u001b[0m\u001b[0;34m(\u001b[0m\u001b[0mframe\u001b[0m\u001b[0;34m.\u001b[0m\u001b[0mshape\u001b[0m\u001b[0;34m[\u001b[0m\u001b[0;36m0\u001b[0m\u001b[0;34m]\u001b[0m\u001b[0;34m/\u001b[0m\u001b[0;36m2\u001b[0m\u001b[0;34m)\u001b[0m\u001b[0;34m:\u001b[0m\u001b[0;34m,\u001b[0m\u001b[0;34m:\u001b[0m\u001b[0;34m,\u001b[0m\u001b[0;34m:\u001b[0m\u001b[0;34m]\u001b[0m\u001b[0;34m)\u001b[0m\u001b[0;34m\u001b[0m\u001b[0m\n\u001b[0m\u001b[1;32m     26\u001b[0m \u001b[0;31m#     frame = adjust_gamma(frame,gamma=1.5)\u001b[0m\u001b[0;34m\u001b[0m\u001b[0;34m\u001b[0m\u001b[0m\n\u001b[1;32m     27\u001b[0m \u001b[0;31m#     undist = cv2.undistort(frame,K,dist)\u001b[0m\u001b[0;34m\u001b[0m\u001b[0;34m\u001b[0m\u001b[0m\n",
      "\u001b[0;31mAttributeError\u001b[0m: 'NoneType' object has no attribute 'shape'"
     ]
    }
   ],
   "source": [
    "try:\n",
    "    sys.path.remove('/opt/ros/kinetic/lib/python2.7/dist-packages')\n",
    "except:\n",
    "    pass\n",
    "\n",
    "import cv2\n",
    "import numpy as np\n",
    "import matplotlib.pyplot as plt\n",
    "\n",
    "cap = cv2.VideoCapture(\"/home/abhinav/Desktop/ENPM673/Project2/data/challenge_video.mp4\")\n",
    "K = np.array([[  1.15422732e+03,0.00000000e+00,6.71627794e+02],\n",
    "              [  0.00000000e+00,1.14818221e+03,3.86046312e+02],\n",
    "              [  0.00000000e+00,0.00000000e+00,1.00000000e+00]])\n",
    "dist = np.array([ -2.42565104e-01,-4.77893070e-02,  -1.31388084e-03,  -8.79107779e-05,\n",
    "    2.20573263e-02])\n",
    "def adjust_gamma(image, gamma=1.0):\n",
    "\t# build a lookup table mapping the pixel values [0, 255] to\n",
    "\t# their adjusted gamma values\n",
    "    lookUpTable = np.empty((1,256), np.uint8)\n",
    "    for i in range(256):\n",
    "        lookUpTable[0,i] = np.clip(pow(i / 255.0, gamma) * 255.0, 0, 255)\n",
    "    res = cv2.LUT(image, lookUpTable)\n",
    "    return res\n",
    "def preprocessing(frame):\n",
    "    th = np.median(frame[int(frame.shape[0]/2):,:,:])\n",
    "#     frame = adjust_gamma(frame,gamma=1.5)\n",
    "#     undist = cv2.undistort(frame,K,dist)\n",
    "#     blur = cv2.bilateralFilter(undist,9,75,75)\n",
    "#     median = cv2.medianBlur(blur,5)\n",
    "    \n",
    "    \n",
    "#     gray = cv2.cvtColor(median, cv2.COLOR_BGR2HLS)\n",
    "#     s_channel = gray[:,:,2]\n",
    "#     l_channel = gray[:,:,1]\n",
    "    \n",
    "    #Create mask for S Channel\n",
    "    if th<60:\n",
    "        s_channel = adjust_gamma(frame,gamma=25.0)\n",
    "        undist = cv2.undistort(frame,K,dist)\n",
    "        blur = cv2.bilateralFilter(undist,9,75,75)\n",
    "        median = cv2.medianBlur(blur,5)\n",
    "\n",
    "\n",
    "        gray = cv2.cvtColor(median, cv2.COLOR_RGB2LAB)\n",
    "        s_channel = gray[:,:,2]\n",
    "        l_channel = gray[:,:,0]\n",
    "        s_min = 135\n",
    "        s_max = 250\n",
    "        \n",
    "        l_min = 200\n",
    "        l_max = 255\n",
    "        \n",
    "        mask1 = np.zeros([s_channel.shape[0],s_channel.shape[1]])\n",
    "        mask1[(s_channel>=s_min)&(s_channel<=s_max)]=1\n",
    "        \n",
    "        mask2 = np.zeros([l_channel.shape[0],l_channel.shape[1]])\n",
    "        mask2[(l_channel>=l_min)&(l_channel<=l_max)]=1\n",
    "    \n",
    "    elif th>130:\n",
    "        s_channel = adjust_gamma(frame,gamma=1)\n",
    "        undist = cv2.undistort(frame,K,dist)\n",
    "        blur = cv2.bilateralFilter(undist,9,75,75)\n",
    "        median = cv2.medianBlur(blur,5)\n",
    "\n",
    "\n",
    "        gray = cv2.cvtColor(median, cv2.COLOR_BGR2LAB)\n",
    "        s_channel = gray[:,:,2]\n",
    "        l_channel = gray[:,:,0]\n",
    "        s_min = 150\n",
    "        s_max = 250\n",
    "        \n",
    "        l_min = 220\n",
    "        l_max = 255\n",
    "        \n",
    "        mask1 = np.zeros([s_channel.shape[0],s_channel.shape[1]])\n",
    "        mask1[(s_channel>=s_min)&(s_channel[1]<=s_max)]=1\n",
    "        \n",
    "        \n",
    "        mask2 = np.zeros([l_channel.shape[0],l_channel.shape[1]])\n",
    "        mask2[(l_channel>=l_min)&(l_channel<=l_max)]=1\n",
    "    else:\n",
    "        undist = cv2.undistort(frame,K,dist)\n",
    "        blur = cv2.bilateralFilter(undist,9,75,75)\n",
    "        median = cv2.medianBlur(blur,5)\n",
    "\n",
    "\n",
    "        gray = cv2.cvtColor(median, cv2.COLOR_BGR2LAB)\n",
    "        s_channel = gray[:,:,2]\n",
    "        l_channel = gray[:,:,0]\n",
    "        s_min = 150\n",
    "        s_max = 250\n",
    "        \n",
    "        l_min = 190\n",
    "        l_max = 255\n",
    "        \n",
    "        mask1 = np.zeros([s_channel.shape[0],s_channel.shape[1]])\n",
    "        mask1[(s_channel>=s_min)&(s_channel[1]<=s_max)]=1\n",
    "        \n",
    "        mask2 = np.zeros([l_channel.shape[0],l_channel.shape[1]])\n",
    "        mask2[(l_channel>=l_min)&(l_channel<=l_max)]=1\n",
    "    \n",
    "    combined = np.zeros([frame.shape[0],frame.shape[1]])\n",
    "    combined[(mask1==1)|(mask2==1)]=1\n",
    "    mask = np.uint8(255*combined/np.max(combined))\n",
    "#     mask = cv2.inRange(median,np.array([0,190,80]),np.array([255,255,150]))\n",
    "    seg = cv2.bitwise_and(frame,median,mask=mask)\n",
    "    return seg,combined,th\n",
    "while(True):\n",
    "    ret,frame = cap.read()\n",
    "\n",
    "    seg,combined,th = preprocessing(frame)\n",
    "    #Extract the region of interest and warp to get bird's eye view\n",
    "    h = frame.shape[0]\n",
    "    w = frame.shape[1]\n",
    "#     src = np.array([[w/2-50,h/2+110],[w/2+50,h/2+110],[w/2+400,h/2],[w/2-400,h/2]])\n",
    "#     dst = np.array([[0,0],[w,0],[w,h],[0,h]])\n",
    "    src = np.array([[375,480],[905,480],[1811,685],[-531,685]])\n",
    "    dst = np.array([[300,0],[800,0],[800,600],[300,600]])\n",
    "#     src = np.array([[600,500],[770,500],[1050,680],[350,680]])\n",
    "#     dst = np.array([[300,300],[700,300],[700,600],[300,600]])\n",
    "    H,flag = cv2.findHomography(src,dst)\n",
    "    out= cv2.warpPerspective(seg,H,(w,h))\n",
    "    out_gray = cv2.cvtColor(out,cv2.COLOR_BGR2GRAY)\n",
    "    ret,thresh1 = cv2.threshold(out_gray,100,255,cv2.THRESH_BINARY)\n",
    "\n",
    "#     font = cv2.FONT_HERSHEY_SIMPLEX\n",
    "#     cv2.putText(out,str(th),(10,500), font, 4,(255,0,0),2,cv2.LINE_AA)\n",
    "# #     cv2.putText(l_channel,str(th),(10,500), font, 4,(255,0,0),2,cv2.LINE_AA)\n",
    "#     cv2.putText(combined,str(th),(10,500), font, 4,(255,0,0),2,cv2.LINE_AA)\n",
    "    ###########################################\n",
    "    #Histogram\n",
    "    histogram = np.sum(thresh1[thresh1.shape[0]/2:,:],axis = 0)\n",
    "    plt.plot(histogram)\n",
    "    mid = np.int((dst[0][0]+dst[1][0])/2)\n",
    "#     mid = np.int(histogram.shape[0]/2)\n",
    "    left_lane = np.argmax(histogram[:mid])\n",
    "    right_lane = np.argmax(histogram[mid:])+mid\n",
    "    \n",
    "    wndw = 50\n",
    "    wndw_ht = np.int(thresh1.shape[0]/wndw)\n",
    "    \n",
    "    nonzero = thresh1.nonzero()\n",
    "    x = np.array(nonzero[0])\n",
    "    y = np.array(nonzero[1])\n",
    "    \n",
    "    left_curr = left_lane\n",
    "    right_curr = right_lane\n",
    "    \n",
    "    margin = 20\n",
    "    \n",
    "    minPix = 10\n",
    "    \n",
    "    #Find indices for left and right pixels\n",
    "    left_inds = []\n",
    "    right_inds = []\n",
    "    \n",
    "    for win in range(wndw):\n",
    "        y_min = thresh1.shape[0] - (win+1)*wndw_ht\n",
    "        y_max = thresh1.shape[0] - (win)*wndw_ht\n",
    "        x_min_left = left_curr - margin\n",
    "        x_max_left = left_curr + margin\n",
    "        x_min_right = right_curr - margin\n",
    "        x_max_right = right_curr + margin\n",
    "        \n",
    "        cv2.rectangle(out,(x_min_left,y_min),(x_max_left,y_max),(255,0,255),2)\n",
    "        cv2.rectangle(out,(x_min_right,y_min),(x_max_right,y_max),(255,0,0),2)\n",
    "        \n",
    "        left_ind = ((y>=y_min)&(y<y_max)&(x>=x_min_left)&(x<x_max_left)).nonzero()[0]\n",
    "        right_ind = ((y>=y_min)&(y<y_max)&(x>=x_min_right)&(x<x_max_right)).nonzero()[0]\n",
    "        \n",
    "        left_inds.append(left_ind)\n",
    "        right_inds.append(right_ind)\n",
    "        #If no. of white pixels > minPix then start \n",
    "        #the new window form their mean position\n",
    "        if len\n",
    "        \n",
    "\n",
    "\n",
    "    \n",
    "    cv2.imshow('s',out)\n",
    "    cv2.imshow('l',thresh1)\n",
    "#     cv2.imshow('test',l_channel)\n",
    "#     cv2.imshow('mask',mask)\n",
    "    if cv2.waitKey(1)& 0xff==ord('q'):\n",
    "        cv2.destroyAllWindows()\n",
    "        break"
   ]
  },
  {
   "cell_type": "markdown",
   "metadata": {},
   "source": [
    "thresh1.nonzero()"
   ]
  },
  {
   "cell_type": "code",
   "execution_count": 46,
   "metadata": {
    "scrolled": true
   },
   "outputs": [
    {
     "data": {
      "text/plain": [
       "550"
      ]
     },
     "execution_count": 46,
     "metadata": {},
     "output_type": "execute_result"
    }
   ],
   "source": [
    "mid"
   ]
  },
  {
   "cell_type": "code",
   "execution_count": 17,
   "metadata": {
    "scrolled": true
   },
   "outputs": [
    {
     "data": {
      "text/plain": [
       "432"
      ]
     },
     "execution_count": 17,
     "metadata": {},
     "output_type": "execute_result"
    }
   ],
   "source": [
    "np.argmax(histogram[:600])"
   ]
  },
  {
   "cell_type": "code",
   "execution_count": 18,
   "metadata": {},
   "outputs": [
    {
     "data": {
      "text/plain": [
       "271"
      ]
     },
     "execution_count": 18,
     "metadata": {},
     "output_type": "execute_result"
    }
   ],
   "source": [
    "np.argmax(histogram[600:])"
   ]
  },
  {
   "cell_type": "code",
   "execution_count": 20,
   "metadata": {},
   "outputs": [],
   "source": [
    "a = np.array([1,2,3,4,5,6,7,8,9])"
   ]
  },
  {
   "cell_type": "code",
   "execution_count": 23,
   "metadata": {},
   "outputs": [
    {
     "data": {
      "text/plain": [
       "3"
      ]
     },
     "execution_count": 23,
     "metadata": {},
     "output_type": "execute_result"
    }
   ],
   "source": [
    "np.argmax(a[5:])"
   ]
  },
  {
   "cell_type": "code",
   "execution_count": null,
   "metadata": {},
   "outputs": [],
   "source": []
  }
 ],
 "metadata": {
  "kernelspec": {
   "display_name": "Python 2",
   "language": "python",
   "name": "python2"
  },
  "language_info": {
   "codemirror_mode": {
    "name": "ipython",
    "version": 2
   },
   "file_extension": ".py",
   "mimetype": "text/x-python",
   "name": "python",
   "nbconvert_exporter": "python",
   "pygments_lexer": "ipython2",
   "version": "2.7.12"
  }
 },
 "nbformat": 4,
 "nbformat_minor": 2
}
